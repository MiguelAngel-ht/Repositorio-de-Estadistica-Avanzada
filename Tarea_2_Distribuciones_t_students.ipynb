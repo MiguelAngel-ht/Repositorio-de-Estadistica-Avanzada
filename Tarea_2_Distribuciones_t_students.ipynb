{
  "nbformat": 4,
  "nbformat_minor": 0,
  "metadata": {
    "colab": {
      "name": "Tarea 2 Distribuciones t students.ipynb",
      "provenance": [],
      "authorship_tag": "ABX9TyO9rGdZXOP/ctTrUfuDp7O4",
      "include_colab_link": true
    },
    "kernelspec": {
      "name": "ir",
      "display_name": "R"
    },
    "language_info": {
      "name": "R"
    }
  },
  "cells": [
    {
      "cell_type": "markdown",
      "metadata": {
        "id": "view-in-github",
        "colab_type": "text"
      },
      "source": [
        "<a href=\"https://colab.research.google.com/github/MiguelAngel-ht/Repositorio-de-Estadistica-Avanzada/blob/main/Tarea_2_Distribuciones_t_students.ipynb\" target=\"_parent\"><img src=\"https://colab.research.google.com/assets/colab-badge.svg\" alt=\"Open In Colab\"/></a>"
      ]
    },
    {
      "cell_type": "markdown",
      "metadata": {
        "id": "xaoJmgCT6w4H"
      },
      "source": [
        "# **Tarea 2 Distribución t de Student**\n",
        "### Por: Miguel Ángel Hernández Tapia\n"
      ]
    },
    {
      "cell_type": "markdown",
      "metadata": {
        "id": "gtdJ5ktXLRYA"
      },
      "source": [
        "# **6.2.5.**\n",
        "Some studies of Alzheimer’s disease (AD) have shown an increase in 14CO2 production in patients\n",
        "with the disease. In one such study the following 14CO2 values were obtained from 16 neocortical\n",
        "biopsy samples from AD patients. \n",
        "\n",
        "*1009 1280 1180 1255 1547 2352 1956 1080\n",
        "1776 1767 1680 2050 1452 2857 3100 1621*\n",
        "\n",
        "Assume that the population of such values is normally distributed with a standard deviation of 350."
      ]
    },
    {
      "cell_type": "code",
      "metadata": {
        "colab": {
          "base_uri": "https://localhost:8080/",
          "height": 173
        },
        "id": "DefxMPdALHaL",
        "outputId": "f41c2b86-55da-4c5f-ad9b-0254ece89e5a"
      },
      "source": [
        "# Intervalo para 90, 95 y 99 porciento\n",
        "\n",
        "#library('plotrix')\n",
        "\n",
        "patients <- c(1009, 1280, 1180, 1255, 1547, 2352, 1956, 1080, 1776, 1767, 1680, 2050, 1452, 2857, 3100, 1621)\n",
        "confianza <- .90\n",
        "\n",
        "# Función para obtener el intervalo de confianza\n",
        "# t.test(x=patients, conf.level= confianza)$conf.int\n",
        "\n",
        "ds = 350\n",
        "# var is ds*ds\n",
        "m = mean(patients)\n",
        "z = 1.64\n",
        "z2 = 1.96\n",
        "z3 = 2.575\n",
        "n = length(patients)\n",
        "k = sqrt((ds*ds)/n)\n",
        "\"Confianza de 90%\"\n",
        "m - z*k\n",
        "m + z*k\n",
        "\"Confianza de 95%\"\n",
        "m - z2*k\n",
        "m + z2*k\n",
        "\"Confianza de 99%\"\n",
        "m - z3*k\n",
        "m + z3*k\n",
        "\n",
        "# 1603.688, 1891.563; 1576.125, 1919.125; 1521.875, 1973.375    "
      ],
      "execution_count": null,
      "outputs": [
        {
          "output_type": "display_data",
          "data": {
            "text/plain": [
              "[1] \"Confianza de 90%\""
            ],
            "text/latex": "'Confianza de 90\\%'",
            "text/markdown": "'Confianza de 90%'",
            "text/html": [
              "'Confianza de 90%'"
            ]
          },
          "metadata": {}
        },
        {
          "output_type": "display_data",
          "data": {
            "text/plain": [
              "[1] 1604.125"
            ],
            "text/latex": "1604.125",
            "text/markdown": "1604.125",
            "text/html": [
              "1604.125"
            ]
          },
          "metadata": {}
        },
        {
          "output_type": "display_data",
          "data": {
            "text/plain": [
              "[1] 1891.125"
            ],
            "text/latex": "1891.125",
            "text/markdown": "1891.125",
            "text/html": [
              "1891.125"
            ]
          },
          "metadata": {}
        },
        {
          "output_type": "display_data",
          "data": {
            "text/plain": [
              "[1] \"Confianza de 95%\""
            ],
            "text/latex": "'Confianza de 95\\%'",
            "text/markdown": "'Confianza de 95%'",
            "text/html": [
              "'Confianza de 95%'"
            ]
          },
          "metadata": {}
        },
        {
          "output_type": "display_data",
          "data": {
            "text/plain": [
              "[1] 1576.125"
            ],
            "text/latex": "1576.125",
            "text/markdown": "1576.125",
            "text/html": [
              "1576.125"
            ]
          },
          "metadata": {}
        },
        {
          "output_type": "display_data",
          "data": {
            "text/plain": [
              "[1] 1919.125"
            ],
            "text/latex": "1919.125",
            "text/markdown": "1919.125",
            "text/html": [
              "1919.125"
            ]
          },
          "metadata": {}
        },
        {
          "output_type": "display_data",
          "data": {
            "text/plain": [
              "[1] \"Confianza de 99%\""
            ],
            "text/latex": "'Confianza de 99\\%'",
            "text/markdown": "'Confianza de 99%'",
            "text/html": [
              "'Confianza de 99%'"
            ]
          },
          "metadata": {}
        },
        {
          "output_type": "display_data",
          "data": {
            "text/plain": [
              "[1] 1522.312"
            ],
            "text/latex": "1522.3125",
            "text/markdown": "1522.3125",
            "text/html": [
              "1522.3125"
            ]
          },
          "metadata": {}
        },
        {
          "output_type": "display_data",
          "data": {
            "text/plain": [
              "[1] 1972.938"
            ],
            "text/latex": "1972.9375",
            "text/markdown": "1972.9375",
            "text/html": [
              "1972.9375"
            ]
          },
          "metadata": {}
        }
      ]
    },
    {
      "cell_type": "markdown",
      "metadata": {
        "id": "oqlYDATK59QI"
      },
      "source": [
        "**Conclusión**\n",
        "Se asume que la distribución es normal, la muestra es de 16 por lo que cada vez que el intervalo requiere más confianza crece el área pero solo se acerca a 2000. Existe un valor encima de 3000 y con 99% de confianza no llega ni a 2000 pero es por la enorme diferencia entre dicho dato y el resto.\n"
      ]
    },
    {
      "cell_type": "markdown",
      "metadata": {
        "id": "_2JYF5uYZQ1M"
      },
      "source": [
        "# **6.3.5.**\n",
        "A sample of 16 ten-year-old girls had a mean weight of 71.5 and a standard deviation of 12 pounds,\n",
        "respectively. Assuming normality, find the 90, 95, and 99 percent confidence intervals for m\n",
        "."
      ]
    },
    {
      "cell_type": "code",
      "metadata": {
        "colab": {
          "base_uri": "https://localhost:8080/",
          "height": 208
        },
        "id": "CNJY-Vs7Zzj7",
        "outputId": "aa8d973b-3577-4ecd-ece6-331ed2654958"
      },
      "source": [
        "#DATOS\n",
        "n = 16\n",
        "mean = 71.5\n",
        "stdes = 12\n",
        "\n",
        "#CÁLCULOS-----------------\n",
        "confianza <- .90\n",
        "a = 1-confianza\n",
        "q = (1 - a/2)\n",
        "#q=0.95\n",
        "ME = 1.746*(stdes)/sqrt(n)\n",
        "R1 = mean - ME\n",
        "R2 = mean + ME\n",
        "#------------------------------\n",
        "confianza <- .95\n",
        "a = 1-confianza\n",
        "q = (1 - a/2)\n",
        "#q=0.975= y n=16\n",
        "ME = 2.120*(stdes)/sqrt(n)\n",
        "R3 = mean - ME\n",
        "R4 = mean + ME\n",
        "#------------------------------\n",
        "confianza <- .99\n",
        "a = 1-confianza\n",
        "q = (1 - a/2)\n",
        "#q=0.995 y n=16\n",
        "ME = 2.921*(stdes)/sqrt(n)\n",
        "R5 = mean - ME\n",
        "R6 = mean + ME\n",
        "#Resultados\n",
        "\"Resultados \"\n",
        "\" \"\n",
        "\"90% de confianza\"\n",
        "R1\n",
        "R2\n",
        "\"95% de confianza\"\n",
        "R3\n",
        "R4\n",
        "\"99% de confianza\"\n",
        "R5\n",
        "R6\n",
        "\n",
        "\n",
        "# Res  66.2, 76.8; 65.1, 77.9; 62.7, 80.3"
      ],
      "execution_count": null,
      "outputs": [
        {
          "output_type": "display_data",
          "data": {
            "text/plain": [
              "[1] \"Resultados \""
            ],
            "text/latex": "'Resultados '",
            "text/markdown": "'Resultados '",
            "text/html": [
              "'Resultados '"
            ]
          },
          "metadata": {}
        },
        {
          "output_type": "display_data",
          "data": {
            "text/plain": [
              "[1] \" \""
            ],
            "text/latex": "' '",
            "text/markdown": "' '",
            "text/html": [
              "' '"
            ]
          },
          "metadata": {}
        },
        {
          "output_type": "display_data",
          "data": {
            "text/plain": [
              "[1] \"90% de confianza\""
            ],
            "text/latex": "'90\\% de confianza'",
            "text/markdown": "'90% de confianza'",
            "text/html": [
              "'90% de confianza'"
            ]
          },
          "metadata": {}
        },
        {
          "output_type": "display_data",
          "data": {
            "text/plain": [
              "[1] 66.262"
            ],
            "text/latex": "66.262",
            "text/markdown": "66.262",
            "text/html": [
              "66.262"
            ]
          },
          "metadata": {}
        },
        {
          "output_type": "display_data",
          "data": {
            "text/plain": [
              "[1] 76.738"
            ],
            "text/latex": "76.738",
            "text/markdown": "76.738",
            "text/html": [
              "76.738"
            ]
          },
          "metadata": {}
        },
        {
          "output_type": "display_data",
          "data": {
            "text/plain": [
              "[1] \"95% de confianza\""
            ],
            "text/latex": "'95\\% de confianza'",
            "text/markdown": "'95% de confianza'",
            "text/html": [
              "'95% de confianza'"
            ]
          },
          "metadata": {}
        },
        {
          "output_type": "display_data",
          "data": {
            "text/plain": [
              "[1] 65.14"
            ],
            "text/latex": "65.14",
            "text/markdown": "65.14",
            "text/html": [
              "65.14"
            ]
          },
          "metadata": {}
        },
        {
          "output_type": "display_data",
          "data": {
            "text/plain": [
              "[1] 77.86"
            ],
            "text/latex": "77.86",
            "text/markdown": "77.86",
            "text/html": [
              "77.86"
            ]
          },
          "metadata": {}
        },
        {
          "output_type": "display_data",
          "data": {
            "text/plain": [
              "[1] \"99% de confianza\""
            ],
            "text/latex": "'99\\% de confianza'",
            "text/markdown": "'99% de confianza'",
            "text/html": [
              "'99% de confianza'"
            ]
          },
          "metadata": {}
        },
        {
          "output_type": "display_data",
          "data": {
            "text/plain": [
              "[1] 62.737"
            ],
            "text/latex": "62.737",
            "text/markdown": "62.737",
            "text/html": [
              "62.737"
            ]
          },
          "metadata": {}
        },
        {
          "output_type": "display_data",
          "data": {
            "text/plain": [
              "[1] 80.263"
            ],
            "text/latex": "80.263",
            "text/markdown": "80.263",
            "text/html": [
              "80.263"
            ]
          },
          "metadata": {}
        }
      ]
    },
    {
      "cell_type": "markdown",
      "metadata": {
        "id": "fdazltMx7UNd"
      },
      "source": [
        "**Conclusión**\n",
        "Al no saber los datos solo podemos comparar los resultados entre sí luego de aplicar las operaciones matemáticas para encontrar el intervalo de confianza y se concluye que es persistente y por lo tanto confiable el resultado."
      ]
    },
    {
      "cell_type": "markdown",
      "metadata": {
        "id": "Rjap9Q1tmZwT"
      },
      "source": [
        "# **6.4.5.**\n",
        "Krantz et al. (A-12) investigated dose-related effects of methadone in subjects with torsade\n",
        "de pointes, a polymorphic ventricular tachycardia. In the study of 17 subjects, nine were being\n",
        "treated with methadone for opiate dependency and eight for chronic pain. The mean daily\n",
        "dose of methadone in the opiate dependency group was 541 mg/day with a standard deviation of\n",
        "156, while the chronic pain group received a mean dose of 269 mg/day with a standard deviation\n",
        "of 316."
      ]
    },
    {
      "cell_type": "code",
      "metadata": {
        "colab": {
          "base_uri": "https://localhost:8080/",
          "height": 208
        },
        "id": "8SRUfJrSm0Ox",
        "outputId": "8c812737-9f03-4881-b24d-0ce365349a73"
      },
      "source": [
        "# DATOS\n",
        "n = 17\n",
        "n1 = 9\n",
        "n2 = 8\n",
        "x1 = 541\n",
        "x2 = 269\n",
        "o1 = 156\n",
        "o2 = 316\n",
        "confi = 0.90      # 0.95 ; 0.99\n",
        "\n",
        "a = 1 - confi \n",
        "q = 1 - a/2\n",
        "# Imprimir q para encontrar las z_q\n",
        "\n",
        "z_095 = 1.65\n",
        "z_0975 = 1.96 \n",
        "z_0995 = 2.575 \n",
        "\n",
        "\n",
        "# Intervalo es\n",
        "# x1-x2 +- z_(1-a/2)*raiz(o1^2/n1 + o2^2/n2)\n",
        "\n",
        "\"Resultados\"\n",
        "\" \"\n",
        "\"Confianza de 90%\"\n",
        "x1-x2 - z_095*sqrt((o1*o1/n1) + (o2*o2/n2))\n",
        "x1-x2 + z_095*sqrt((o1^2/n1) + (o2^2/n2))\n",
        "\n",
        "\"Confianza de 95%\"\n",
        "x1-x2 - z_0975*sqrt((o1^2/n1) + (o2^2/n2))\n",
        "x1-x2 + z_0975*sqrt((o1^2/n1) + (o2^2/n2))\n",
        "\n",
        "\"Confianza de 99%\"\n",
        "x1-x2 - z_0995*sqrt((o1^2/n1) + (o2^2/n2))\n",
        "x1 - x2 + z_0995*(sqrt((o1^2/n1) + (o2^2/n2)))\n",
        "\n",
        "\n",
        "\n",
        "#RES 64.09, 479.91; 19.19, 524.81; -77.49, 621.49"
      ],
      "execution_count": null,
      "outputs": [
        {
          "output_type": "display_data",
          "data": {
            "text/plain": [
              "[1] \"Resultados\""
            ],
            "text/latex": "'Resultados'",
            "text/markdown": "'Resultados'",
            "text/html": [
              "'Resultados'"
            ]
          },
          "metadata": {}
        },
        {
          "output_type": "display_data",
          "data": {
            "text/plain": [
              "[1] \" \""
            ],
            "text/latex": "' '",
            "text/markdown": "' '",
            "text/html": [
              "' '"
            ]
          },
          "metadata": {}
        },
        {
          "output_type": "display_data",
          "data": {
            "text/plain": [
              "[1] \"Confianza de 90%\""
            ],
            "text/latex": "'Confianza de 90\\%'",
            "text/markdown": "'Confianza de 90%'",
            "text/html": [
              "'Confianza de 90%'"
            ]
          },
          "metadata": {}
        },
        {
          "output_type": "display_data",
          "data": {
            "text/plain": [
              "[1] 68.66804"
            ],
            "text/latex": "68.6680423543805",
            "text/markdown": "68.6680423543805",
            "text/html": [
              "68.6680423543805"
            ]
          },
          "metadata": {}
        },
        {
          "output_type": "display_data",
          "data": {
            "text/plain": [
              "[1] 475.332"
            ],
            "text/latex": "475.331957645619",
            "text/markdown": "475.331957645619",
            "text/html": [
              "475.331957645619"
            ]
          },
          "metadata": {}
        },
        {
          "output_type": "display_data",
          "data": {
            "text/plain": [
              "[1] \"Confianza de 95%\""
            ],
            "text/latex": "'Confianza de 95\\%'",
            "text/markdown": "'Confianza de 95%'",
            "text/html": [
              "'Confianza de 95%'"
            ]
          },
          "metadata": {}
        },
        {
          "output_type": "display_data",
          "data": {
            "text/plain": [
              "[1] 30.46628"
            ],
            "text/latex": "30.4662806149005",
            "text/markdown": "30.4662806149005",
            "text/html": [
              "30.4662806149005"
            ]
          },
          "metadata": {}
        },
        {
          "output_type": "display_data",
          "data": {
            "text/plain": [
              "[1] 513.5337"
            ],
            "text/latex": "513.5337193851",
            "text/markdown": "513.5337193851",
            "text/html": [
              "513.5337193851"
            ]
          },
          "metadata": {}
        },
        {
          "output_type": "display_data",
          "data": {
            "text/plain": [
              "[1] \"Confianza de 99%\""
            ],
            "text/latex": "'Confianza de 99\\%'",
            "text/markdown": "'Confianza de 99%'",
            "text/html": [
              "'Confianza de 99%'"
            ]
          },
          "metadata": {}
        },
        {
          "output_type": "display_data",
          "data": {
            "text/plain": [
              "[1] -45.32109"
            ],
            "text/latex": "-45.3210854166487",
            "text/markdown": "-45.3210854166487",
            "text/html": [
              "-45.3210854166487"
            ]
          },
          "metadata": {}
        },
        {
          "output_type": "display_data",
          "data": {
            "text/plain": [
              "[1] 589.3211"
            ],
            "text/latex": "589.321085416649",
            "text/markdown": "589.321085416649",
            "text/html": [
              "589.321085416649"
            ]
          },
          "metadata": {}
        }
      ]
    },
    {
      "cell_type": "markdown",
      "metadata": {
        "id": "ISvogGBV8pOO"
      },
      "source": [
        "**Conclusión:** Se observa que mientras el grado de confianza es más grande, el intervalo contempla más área y también que el último intervalo con 99% de confianza contiene al 0 en su dominio."
      ]
    },
    {
      "cell_type": "markdown",
      "metadata": {
        "id": "cJsj3l4rkvsf"
      },
      "source": [
        "# **6.5.1.**\n",
        "Luna et al. (A-14) studied patients who were mechanically ventilated in the intensive care unit of six\n",
        "hospitals in Buenos Aires, Argentina. The researchers found that of 472 mechanically ventilated\n",
        "patients, 63 had clinical evidence of ventilator-associated pneumonia (VAP). Construct a 95 percent\n",
        "confidence interval for the proportion of all mechanically ventilated patients at these hospitals who\n",
        "may be expected to develop VAP.\n",
        "\n",
        "For each of the following exercises state the practical and probabilistic interpretations of the interval\n",
        "that you construct. Identify each component of the interval: point estimate, reliability coefficient, and\n",
        "standard error. Explain why the reliability coefficients are not the same for all exercises.\n",
        "\n",
        "![image.png](data:image/png;base64,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)"
      ]
    },
    {
      "cell_type": "code",
      "metadata": {
        "colab": {
          "base_uri": "https://localhost:8080/",
          "height": 69
        },
        "id": "AxdNOhYbk6AJ",
        "outputId": "442ee75d-b483-45f5-f90f-3fba66238267"
      },
      "source": [
        "#'''\n",
        "#6 hospitales\n",
        "#472 pacientes ventilados\n",
        "#63 tienen VAP\n",
        "#95% confianza\n",
        "#'''\n",
        "\n",
        "n = 472\n",
        "x = 63\n",
        "p = x/n      # a = 1-p ; q = 1 - a/2; q = 0.975; z = 1.96\n",
        "z = 1.96\n",
        "var = z*sqrt(p*(1-p)/n)\n",
        "\n",
        "\"Resultado\"\n",
        "p - var\n",
        "p + var\n",
        "\n",
        "# RES   .1028, .1642"
      ],
      "execution_count": null,
      "outputs": [
        {
          "output_type": "display_data",
          "data": {
            "text/plain": [
              "[1] \"Resultado\""
            ],
            "text/latex": "'Resultado'",
            "text/markdown": "'Resultado'",
            "text/html": [
              "'Resultado'"
            ]
          },
          "metadata": {}
        },
        {
          "output_type": "display_data",
          "data": {
            "text/plain": [
              "[1] 0.1027932"
            ],
            "text/latex": "0.102793188320638",
            "text/markdown": "0.102793188320638",
            "text/html": [
              "0.102793188320638"
            ]
          },
          "metadata": {}
        },
        {
          "output_type": "display_data",
          "data": {
            "text/plain": [
              "[1] 0.164156"
            ],
            "text/latex": "0.164155964221735",
            "text/markdown": "0.164155964221735",
            "text/html": [
              "0.164155964221735"
            ]
          },
          "metadata": {}
        }
      ]
    },
    {
      "cell_type": "markdown",
      "metadata": {
        "id": "hhzcXXq6-aiP"
      },
      "source": [
        "**Conclusión:** En este caso obtenemos un intervalo donde podemos encontrar con un 95% de confianza el punto de estimación en los pacientes, en ese mismo intervalo tenemos entre 10% y 16% de los pacientes diagnosticados con el padecimiento. "
      ]
    },
    {
      "cell_type": "markdown",
      "metadata": {
        "id": "e69Q2dJIrhdj"
      },
      "source": [
        "# **6.6.1.**\n",
        "Horwitz et al. (A-18) studied 637 persons who were identified by court records from 1967 to 1971 as\n",
        "having experienced abuse or neglect. For a control group, they located 510 subjects who as children\n",
        "attended the same elementary school and lived within a five-block radius of those in the\n",
        "abused/neglected group. In the abused/neglected group, and control group, 114 and 57 subjects,\n",
        "respectively, had developed antisocial personality disorders over their lifetimes. Construct a 95\n",
        "percent confidence interval for the difference between the proportions of subjects developing\n",
        "antisocial personality disorders one might expect to find in the populations of subjects from which\n",
        "the subjects of this study may be presumed to have been drawn.\n",
        "\n",
        "![image.png](data:image/png;base64,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)"
      ]
    },
    {
      "cell_type": "code",
      "metadata": {
        "colab": {
          "base_uri": "https://localhost:8080/",
          "height": 52
        },
        "id": "fc4Ee7gBrWkU",
        "outputId": "4849e530-0288-48cd-c147-af4ad77174af"
      },
      "source": [
        "# 637 grupo de abuso o negligencia - 510 vivian en las mismas 5 cuadras\n",
        "# de los 636 y 510 salieron 114 y 57 con personalidad antisocial respectivamente\n",
        "# confianza 95%\n",
        "\n",
        "n1 = 637\n",
        "x1 = 114\n",
        "p1 = x1/n1\n",
        "n2 = 510\n",
        "x2 = 57\n",
        "p2 = x2/n2\n",
        "z = 1.96\n",
        "var = z*sqrt((p1*(1-p1)/n1) + (p2*(1-p2)/n2))\n",
        "p1-p2-var\n",
        "p1-p2+var\n",
        "\n",
        "\n",
        "# RES  .0268, .1076"
      ],
      "execution_count": null,
      "outputs": [
        {
          "output_type": "display_data",
          "data": {
            "text/plain": [
              "[1] 0.02677744"
            ],
            "text/latex": "0.0267774427920011",
            "text/markdown": "0.0267774427920011",
            "text/html": [
              "0.0267774427920011"
            ]
          },
          "metadata": {}
        },
        {
          "output_type": "display_data",
          "data": {
            "text/plain": [
              "[1] 0.1076209"
            ],
            "text/latex": "0.107620931942508",
            "text/markdown": "0.107620931942508",
            "text/html": [
              "0.107620931942508"
            ]
          },
          "metadata": {}
        }
      ]
    },
    {
      "cell_type": "markdown",
      "metadata": {
        "id": "UKGi2Z5R-678"
      },
      "source": [
        "**Conclusión:** Encontramos con 95% de confianza que el primer grupo de abuso/negligencia es más grande entre un 2% a un 10% con el grupo de control abuso/negligencia que se localizaban en el mismo vecindario. También concluímos que las muestras no son iguales puesto que no se incluye el 0 en el intervalo."
      ]
    },
    {
      "cell_type": "markdown",
      "metadata": {
        "id": "MSNTD9QmvL73"
      },
      "source": [
        "# **6.7.3.**\n",
        "A physician would like to know the mean fasting blood glucose value (milligrams per 100 ml) of\n",
        "patients seen in a diabetes clinic over the past 10 years. Determine the number of records the\n",
        "physician should examine in order to obtain a 90 percent confidence interval for m if the desired width\n",
        "of the interval is 6 units and a pilot sample yields a variance of 60.\n",
        "\n",
        "![image.png](data:image/png;base64,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)"
      ]
    },
    {
      "cell_type": "code",
      "metadata": {
        "colab": {
          "base_uri": "https://localhost:8080/",
          "height": 69
        },
        "id": "cnjMJjGtv7ku",
        "outputId": "2bdbe6a8-9748-4f77-d856-263d27c6118c"
      },
      "source": [
        "# Determinar el número de registros para obtener 90% de confianza \n",
        "# con 2d = 6 unidades y varianza(o^2) es de 60\n",
        "\n",
        "d = 3\n",
        "o = 60\n",
        "z = 1.645\n",
        "n = (z^2)*(o)/(d^2)\n",
        "n\n",
        "\"Resultado\"\n",
        "19\n",
        "\n",
        "# SE REDONDEA AL MÁS GRANDE\n",
        "# RES 19"
      ],
      "execution_count": null,
      "outputs": [
        {
          "output_type": "display_data",
          "data": {
            "text/plain": [
              "[1] 18.04017"
            ],
            "text/latex": "18.0401666666667",
            "text/markdown": "18.0401666666667",
            "text/html": [
              "18.0401666666667"
            ]
          },
          "metadata": {}
        },
        {
          "output_type": "display_data",
          "data": {
            "text/plain": [
              "[1] \"Resultado\""
            ],
            "text/latex": "'Resultado'",
            "text/markdown": "'Resultado'",
            "text/html": [
              "'Resultado'"
            ]
          },
          "metadata": {}
        },
        {
          "output_type": "display_data",
          "data": {
            "text/plain": [
              "[1] 19"
            ],
            "text/latex": "19",
            "text/markdown": "19",
            "text/html": [
              "19"
            ]
          },
          "metadata": {}
        }
      ]
    },
    {
      "cell_type": "markdown",
      "metadata": {
        "id": "r-OulEp0AO37"
      },
      "source": [
        "**Conclusión:** Dada la varianza y la longitud de margen se obtiene que se requieren 19 muestras para mínimas para obtener una confianza del 95% en el experimento."
      ]
    },
    {
      "cell_type": "markdown",
      "metadata": {
        "id": "KOT8LAYv35Id"
      },
      "source": [
        "# **6.8.3.**\n",
        "\n",
        "A hospital administrator wishes to know what proportion of discharged patients is unhappy with\n",
        "the care received during hospitalization. How large a sample should be drawn if we let d = 0.05, the\n",
        "confidence coefficient is .95, and no other information is available? How large should the sample\n",
        "be if p is approximated by .25?\n",
        "\n",
        "![image.png](data:image/png;base64,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)\n",
        "\n",
        "![image.png](data:image/png;base64,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)"
      ]
    },
    {
      "cell_type": "code",
      "metadata": {
        "colab": {
          "base_uri": "https://localhost:8080/",
          "height": 69
        },
        "id": "gUkcGSsHCmLt",
        "outputId": "38b0d1f3-498b-4195-bf32-4ebfce302ed6"
      },
      "source": [
        "# d=0.05  confi = 0.95 ; a = 1 - 0.95; q = 0.975; z = 1.965\n",
        "# p = 0.25 \n",
        "\n",
        "# Suponemos que p = 0.5 como máximo n\n",
        "\n",
        "d = 0.05\n",
        "z = 1.965\n",
        "p = 0.5\n",
        "p1 = 0.25 \n",
        "q = 1-p \n",
        "q1 = 1-p1\n",
        "n = (z^2)*p*q/(d^2)\n",
        "n1 = (z^2)*p1*q1/(d^2)\n",
        "\n",
        "\"Resultados\"\n",
        "n\n",
        "n1\n",
        "\n",
        "# RES  385, 289"
      ],
      "execution_count": null,
      "outputs": [
        {
          "output_type": "display_data",
          "data": {
            "text/plain": [
              "[1] \"Resultados\""
            ],
            "text/latex": "'Resultados'",
            "text/markdown": "'Resultados'",
            "text/html": [
              "'Resultados'"
            ]
          },
          "metadata": {}
        },
        {
          "output_type": "display_data",
          "data": {
            "text/plain": [
              "[1] 386.1225"
            ],
            "text/latex": "386.1225",
            "text/markdown": "386.1225",
            "text/html": [
              "386.1225"
            ]
          },
          "metadata": {}
        },
        {
          "output_type": "display_data",
          "data": {
            "text/plain": [
              "[1] 289.5919"
            ],
            "text/latex": "289.591875",
            "text/markdown": "289.591875",
            "text/html": [
              "289.591875"
            ]
          },
          "metadata": {}
        }
      ]
    },
    {
      "cell_type": "markdown",
      "metadata": {
        "id": "i0EpaJzIBAQa"
      },
      "source": [
        "**Conclusión:** Se supone que la primera p vale 0.5 como un valor máximo para p y con este obtener un mayor margen. Cuando se supone que p es 0.25 el resultado varia casi 100 unidades por lo cual sería de llamar la atención esa pequeña diferencia."
      ]
    },
    {
      "cell_type": "markdown",
      "metadata": {
        "id": "eFVF3Hv3Hu8R"
      },
      "source": [
        "# **6.9.7.**\n",
        "Twenty air samples taken at the same site over a period of 6 months showed the following amounts of\n",
        "suspended particulate matter (micrograms per cubic meter of air):\n",
        "\n",
        "*68 22 36 32\n",
        "42 24 28 38\n",
        "30 44 28 27\n",
        "28 43 45 50\n",
        "79 74 57 21*\n",
        "\n",
        "Consider these measurements to be a random sample from a population of normally distributed\n",
        "measurements, and construct a 95 percent confidence interval for the population variance.\n",
        "\n",
        "![image.png](data:image/png;base64,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)"
      ]
    },
    {
      "cell_type": "code",
      "metadata": {
        "colab": {
          "base_uri": "https://localhost:8080/",
          "height": 87
        },
        "id": "GDOdanR-OZLk",
        "outputId": "ac2cc383-097f-4401-fe12-165208004b43"
      },
      "source": [
        "samples <- c(68, 22, 36, 32, 42, 24, 28, 38, 30, 44, 28, 27, 28, 43, 45, 50, 79, 74, 57, 21)\n",
        "confi = 0.95\n",
        "a = 1 - confi\n",
        "q = 1-a/2\n",
        "s2 = var(samples)\n",
        "n = length(samples)\n",
        "\n",
        "a = n - 1\n",
        "x_1_a2 = 32.852\n",
        "x_a2 = 8.907\n",
        "\"Resultados\"\n",
        "(n-1)*s2/x_1_a2\n",
        "\" < o^2 < \"\n",
        "(n-1)*s2/x_a2\n",
        "\n",
        "# RES  170.98503 < s2 z 630.65006"
      ],
      "execution_count": null,
      "outputs": [
        {
          "output_type": "display_data",
          "data": {
            "text/plain": [
              "[1] \"Resultados\""
            ],
            "text/latex": "'Resultados'",
            "text/markdown": "'Resultados'",
            "text/html": [
              "'Resultados'"
            ]
          },
          "metadata": {}
        },
        {
          "output_type": "display_data",
          "data": {
            "text/plain": [
              "[1] 170.985"
            ],
            "text/latex": "170.985023742847",
            "text/markdown": "170.985023742847",
            "text/html": [
              "170.985023742847"
            ]
          },
          "metadata": {}
        },
        {
          "output_type": "display_data",
          "data": {
            "text/plain": [
              "[1] \" < o^2 < \""
            ],
            "text/latex": "' < o\\textasciicircum{}2 < '",
            "text/markdown": "' &lt; o^2 &lt; '",
            "text/html": [
              "' &lt; o^2 &lt; '"
            ]
          },
          "metadata": {}
        },
        {
          "output_type": "display_data",
          "data": {
            "text/plain": [
              "[1] 630.6501"
            ],
            "text/latex": "630.650050522061",
            "text/markdown": "630.650050522061",
            "text/html": [
              "630.650050522061"
            ]
          },
          "metadata": {}
        }
      ]
    },
    {
      "cell_type": "markdown",
      "metadata": {
        "id": "UrOj8-FwBoVw"
      },
      "source": [
        "**Conclusión:** En este intervalo de confianza se obtiene la varianza para distintas mediciones de partículas en el aire en diferentes épocas y conluímos que el intervalo es muy grande por lo que en algunas épocas se contamina demasido el aire y la diferencia entre las mediciones también lo es."
      ]
    },
    {
      "cell_type": "markdown",
      "metadata": {
        "id": "EPoL08cCU91z"
      },
      "source": [
        "# **6.10.7**\n",
        "Measurements of gastric secretion of hydrochloric acid (milliequivalents per hour) in 16 normal\n",
        "subjects and 10 subjects with duodenal ulcer yielded the following results:\n",
        "\n",
        "**Normal subjects:** *6.3, 2.0, 2.3, 0.5, 1.9, 3.2, 4.1, 4.0, 6.2, 6.1, 3.5, 1.3, 1.7, 4.5, 6.3, 6.2*\n",
        "\n",
        "**Ulcer subjects:** *13.7, 20.6, 15.9, 28.4, 29.4, 18.4, 21.1, 3.0, 26.2, 13.0*\n",
        "\n",
        "Construct a 95 percent confidence interval for the ratio of the two population variances. What\n",
        "assumptions must be met for this procedure to be valid?\n",
        "\n",
        "![image.png](data:image/png;base64,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)\n",
        "\n",
        "La usada en el problema es\n",
        "\n",
        "![image.png](data:image/png;base64,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)"
      ]
    },
    {
      "cell_type": "code",
      "metadata": {
        "colab": {
          "base_uri": "https://localhost:8080/",
          "height": 121
        },
        "id": "4FOHHlDGVYqv",
        "outputId": "d3436552-0306-4bf5-ca6e-aaab9b3f0a98"
      },
      "source": [
        "ns = c(6.3, 2.0, 2.3, 0.5, 1.9, 3.2, 4.1, 4.0, 6.2, 6.1, 3.5, 1.3, 1.7, 4.5, 6.3, 6.2)\n",
        "us = c(13.7, 20.6, 15.9, 28.4, 29.4, 18.4, 21.1, 3.0, 26.2, 13.0)\n",
        "\n",
        "s1_2 = var(ns)\n",
        "s2_2 = var(us)\n",
        "df1 = length(ns)-1 # df1 = 15\n",
        "df2 = length(us)-1 # df2 = 9\n",
        "confi = .95\n",
        "a = 1-confi\n",
        "q = 1-a/2    \n",
        "# q = 0.975      \n",
        "# a/2 = 0.025\n",
        "\n",
        "fq = 3.77    # columna 15 fila 9 valores de F_\n",
        "fa = 1/3.12      # recíproco del invertido (o sea columna 9 y fila 15)\n",
        "\n",
        "\"Resultado\"\n",
        "fa/(s1_2/s2_2) \n",
        "\" < o2^2 / o1^2 <\"\n",
        "fq/(s1_2/s2_2)\n",
        "\" Se asume que son de distinta cantidad de datos cada varianza \"\n",
        "\" independientes y que dibujan dos distribuciones normales\"\n",
        "\n",
        "# RES  5.13, 60.30"
      ],
      "execution_count": null,
      "outputs": [
        {
          "output_type": "display_data",
          "data": {
            "text/plain": [
              "[1] \"Resultado\""
            ],
            "text/latex": "'Resultado'",
            "text/markdown": "'Resultado'",
            "text/html": [
              "'Resultado'"
            ]
          },
          "metadata": {}
        },
        {
          "output_type": "display_data",
          "data": {
            "text/plain": [
              "[1] 5.12634"
            ],
            "text/latex": "5.12633982956425",
            "text/markdown": "5.12633982956425",
            "text/html": [
              "5.12633982956425"
            ]
          },
          "metadata": {}
        },
        {
          "output_type": "display_data",
          "data": {
            "text/plain": [
              "[1] \" < o2^2 / o1^2 <\""
            ],
            "text/latex": "' < o2\\textasciicircum{}2 / o1\\textasciicircum{}2 <'",
            "text/markdown": "' &lt; o2^2 / o1^2 &lt;'",
            "text/html": [
              "' &lt; o2^2 / o1^2 &lt;'"
            ]
          },
          "metadata": {}
        },
        {
          "output_type": "display_data",
          "data": {
            "text/plain": [
              "[1] 60.29806"
            ],
            "text/latex": "60.2980596112665",
            "text/markdown": "60.2980596112665",
            "text/html": [
              "60.2980596112665"
            ]
          },
          "metadata": {}
        },
        {
          "output_type": "display_data",
          "data": {
            "text/plain": [
              "[1] \" Se asume que son de distinta cantidad de datos cada varianza \""
            ],
            "text/latex": "' Se asume que son de distinta cantidad de datos cada varianza '",
            "text/markdown": "' Se asume que son de distinta cantidad de datos cada varianza '",
            "text/html": [
              "' Se asume que son de distinta cantidad de datos cada varianza '"
            ]
          },
          "metadata": {}
        },
        {
          "output_type": "display_data",
          "data": {
            "text/plain": [
              "[1] \" independientes y que dibujan dos distribuciones normales\""
            ],
            "text/latex": "' independientes y que dibujan dos distribuciones normales'",
            "text/markdown": "' independientes y que dibujan dos distribuciones normales'",
            "text/html": [
              "' independientes y que dibujan dos distribuciones normales'"
            ]
          },
          "metadata": {}
        }
      ]
    },
    {
      "cell_type": "markdown",
      "metadata": {
        "id": "bj1TNSxZCUg4"
      },
      "source": [
        "**Conclusión:** Se comparan dos conjuntos y vemos que la varianza no es similar y varía desde 5 hasta 60 veces más grande la segunda con la primera. Se supuso que son distribuciones normales y son independientes entre sí, así como su varianza es distinta."
      ]
    },
    {
      "cell_type": "markdown",
      "metadata": {
        "id": "kZnRyil7eoWc"
      },
      "source": [
        "# **Conceptos**\n",
        "\n",
        "\n",
        "\n",
        "1.   What is statistical inference? **R = is the process of using data analysis to infer properties of an underlying distribution of probability.** \n",
        "2.   Why is estimation an important type of inference? **R =  Es de suma importancia para dar validés a los datos y en la práctica podría ser significativo en costos**\n",
        "3.   What is a point estimate? **R = is a single numerical value used to estimate the corresponding population parameter.**\n",
        "4.   Explain the meaning of unbiasedness. **R = is a sample estimate of a population parameter whose sampling distribution has a mean that is equal to the parameter being estimated.**\n",
        "5.   Define the followings. \n",
        "**a) Reliability coefficient** *essentially measures consistency of scoring.*\n",
        "\n",
        "**b) Confidence coefficient** *Es la probabilidad de que un intervalo de confianza contenga el parámetro estimado*\n",
        "\n",
        "**c) Precision** *The quantity obtained by multiplying the reliability factor by the standard error of the mean is called the precision of the estimate. This quantity is also called the margin of error.*\n",
        "\n",
        "**d) Standard Error** *La desviación estándar de un estadístico usaco como estimador de un parámetro poblacional (SE) se refiere a la precision del estimador*\n",
        "\n",
        "**e) Estimator** *Es una regla, expresada como una fórmula que nos dice cómo calcular una estimación con base en la información con base en la información de la muestra.*\n",
        "\n",
        "**f) Margin of error** *El área que contiene el 95% del espacio en una distribución normal, desvest menor a 1.96.*\n",
        "\n",
        "6.  Give the general formula for a confidence interval.\n",
        "\n",
        "*estimator +- (reliability coefficient) x (standard error of the estimator)*\n",
        "\n",
        "7.   State the probabilistic and practical interpretations of a confidence interval.\n",
        "**Par de números resultantes de la estimación, Par donde queda dentro el parámetro**\n",
        "\n",
        "8.   Or what use is the central limit theorem in estimation? \n",
        "**Establece, en condiciones muy generales, las sumas y medias de muestras aleatorias de mediciones estraídas de una población tienden a tener una distribución aproximadamente normal.**\n",
        "\n",
        "9.  Describe the t distribution.\n",
        "**Tiene forma de campana y es simétrica respecto a t = 0. Es más variable que z y los extremos no bajan hacia 0 tan rápido como en z. El tamaño depende de n, cuando n es infinitamente grande t y z son iguales.**\n",
        "\n",
        "10.   What are the assumptions underlying the use of the t distribution in estimating a single population mean?\n",
        "**Hipótesis nula y alternativa (valor de m y mo), Prueba estadística (valor de t), Región de rechazo (valores de t_a o t_a/2**\n",
        "\n",
        "11.   What is the finite population correction? When can it be ignored?\n",
        "\n",
        "**he factor (N-n)/(N-1) is called the finite population correction. If sampling is to be with replacement, from an infinite population, or from a population that is sufficiently large to warrant our ignoring the finite population correction Is usually ignored when n/N >= 0.05.**\n",
        "\n",
        "12.   What is the assumptions underlying the use of the t distribution in estimating the difference between two population means?\n",
        "\n",
        "**Se supone que las poblaciones tienen la misma forma, o sea que tienen la misma varianza en común y esta nueva distribución es t de student**\n"
      ]
    }
  ]
}