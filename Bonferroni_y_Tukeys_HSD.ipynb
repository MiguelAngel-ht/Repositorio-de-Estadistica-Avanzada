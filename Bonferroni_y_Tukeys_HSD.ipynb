{
  "nbformat": 4,
  "nbformat_minor": 0,
  "metadata": {
    "colab": {
      "name": "Bonferroni y Tukeys HSD.ipynb",
      "provenance": [],
      "authorship_tag": "ABX9TyOO5vtAJaQdbwNlSSiIUQPw",
      "include_colab_link": true
    },
    "kernelspec": {
      "name": "ir",
      "display_name": "R"
    },
    "language_info": {
      "name": "R"
    }
  },
  "cells": [
    {
      "cell_type": "markdown",
      "metadata": {
        "id": "view-in-github",
        "colab_type": "text"
      },
      "source": [
        "<a href=\"https://colab.research.google.com/github/MiguelAngel-ht/Repositorio-de-Estadistica-Avanzada/blob/main/Bonferroni_y_Tukeys_HSD.ipynb\" target=\"_parent\"><img src=\"https://colab.research.google.com/assets/colab-badge.svg\" alt=\"Open In Colab\"/></a>"
      ]
    },
    {
      "cell_type": "markdown",
      "metadata": {
        "id": "tqVa5kPaoYSl"
      },
      "source": [
        "---\n",
        "---\n",
        "\n",
        "# **Bonferroni vs HSD de Tukey**\n",
        "\n",
        "---\n",
        "---\n",
        "\n",
        "*Por: Miguel Ángel Hernández Tapia*\n",
        "\n",
        "---"
      ]
    },
    {
      "cell_type": "markdown",
      "metadata": {
        "id": "tEydIWASpgjv"
      },
      "source": [
        "La prueba de **Bonferroni** se usa para\n",
        "\n",
        "*   La prueba de Bonferroni es una prueba estadística utilizada para reducir la instancia de un falso positivo.\n",
        "*   En particular, Bonferroni diseñó un ajuste para evitar que los datos parecieran incorrectamente ser estadísticamente significativos.\n",
        "*   Una limitación importante de la corrección de Bonferroni es que puede llevar a los analistas a mezclar resultados reales verdaderos.\n",
        "* Sugiere que el valor $p$ para cada prueba debe ser igual a su $\\alpha$ dividido por el número de pruebas realizadas.\n",
        "\n",
        "El comando que realiza la comparación es\n",
        "\n",
        "\n",
        "\n",
        "```\n",
        "pairwise.t.test(arreglo_1,arreglo_1,p.adjust='bonf')\n",
        "```\n",
        "\n",
        "y el resultado será una matriz con $p-values$ si se hiciera una prueba estadística entre las dos variables. Mientras sea menor $0.005$ se podría hacer una prueba."
      ]
    },
    {
      "cell_type": "markdown",
      "metadata": {
        "id": "s6oZFv3dqWhs"
      },
      "source": [
        "La prueba de **Tukey** es un método que tiene como fin comparar las medias individuales provenientes de un análisis de varianza de varias muestras sometidas a tratamientos distintos. \n",
        "\n",
        "En los experimentos donde se compara entre tres o más tratamientos diferentes aplicados a igual número de muestras, se requiere discernir si los resultados son significativamente distintos o no.\n",
        "\n",
        "Se dice que un experimento es balanceado cuando el tamaño de todas las muestras estadísticas es igual en cada tratamiento. Cuando el tamaño de las muestras es diferente para cada tratamiento, se tiene entonces un experimento no balanceado.\n",
        "\n",
        "El comando que realiza la comparación es\n",
        "\n",
        "\n",
        "\n",
        "```\n",
        "modelo = aov(arreglo_1~arreglo_2)\n",
        "TukeyHSD(modelo)\n",
        "```\n",
        "\n",
        "y el resultado deberá ser igual que la prueba de Bonferroni."
      ]
    },
    {
      "cell_type": "code",
      "metadata": {
        "id": "hJOQHvtrIBV-"
      },
      "source": [
        "data = read.csv('celulasxgrupos.csv',header=T)"
      ],
      "execution_count": null,
      "outputs": []
    },
    {
      "cell_type": "code",
      "metadata": {
        "colab": {
          "base_uri": "https://localhost:8080/",
          "height": 159
        },
        "id": "-HUudszyWYO0",
        "outputId": "02361641-1a03-4864-f2f3-51bc97e6559e"
      },
      "source": [
        "anova(lm(data$celulas~data$droga))"
      ],
      "execution_count": null,
      "outputs": [
        {
          "output_type": "display_data",
          "data": {
            "text/plain": [
              "           Df Sum Sq    Mean Sq   F value  Pr(>F)     \n",
              "data$droga  2  7688.635 3844.3176 6.306009 0.004793711\n",
              "Residuals  33 20117.714  609.6277       NA          NA"
            ],
            "text/latex": "A anova: 2 × 5\n\\begin{tabular}{r|lllll}\n  & Df & Sum Sq & Mean Sq & F value & Pr(>F)\\\\\n  & <int> & <dbl> & <dbl> & <dbl> & <dbl>\\\\\n\\hline\n\tdata\\$droga &  2 &  7688.635 & 3844.3176 & 6.306009 & 0.004793711\\\\\n\tResiduals & 33 & 20117.714 &  609.6277 &       NA &          NA\\\\\n\\end{tabular}\n",
            "text/markdown": "\nA anova: 2 × 5\n\n| <!--/--> | Df &lt;int&gt; | Sum Sq &lt;dbl&gt; | Mean Sq &lt;dbl&gt; | F value &lt;dbl&gt; | Pr(&gt;F) &lt;dbl&gt; |\n|---|---|---|---|---|---|\n| data$droga |  2 |  7688.635 | 3844.3176 | 6.306009 | 0.004793711 |\n| Residuals | 33 | 20117.714 |  609.6277 |       NA |          NA |\n\n",
            "text/html": [
              "<table class=\"dataframe\">\n",
              "<caption>A anova: 2 × 5</caption>\n",
              "<thead>\n",
              "\t<tr><th></th><th scope=col>Df</th><th scope=col>Sum Sq</th><th scope=col>Mean Sq</th><th scope=col>F value</th><th scope=col>Pr(&gt;F)</th></tr>\n",
              "\t<tr><th></th><th scope=col>&lt;int&gt;</th><th scope=col>&lt;dbl&gt;</th><th scope=col>&lt;dbl&gt;</th><th scope=col>&lt;dbl&gt;</th><th scope=col>&lt;dbl&gt;</th></tr>\n",
              "</thead>\n",
              "<tbody>\n",
              "\t<tr><th scope=row>data$droga</th><td> 2</td><td> 7688.635</td><td>3844.3176</td><td>6.306009</td><td>0.004793711</td></tr>\n",
              "\t<tr><th scope=row>Residuals</th><td>33</td><td>20117.714</td><td> 609.6277</td><td>      NA</td><td>         NA</td></tr>\n",
              "</tbody>\n",
              "</table>\n"
            ]
          },
          "metadata": {}
        }
      ]
    },
    {
      "cell_type": "code",
      "metadata": {
        "colab": {
          "base_uri": "https://localhost:8080/",
          "height": 106
        },
        "id": "XYZO34TYWfQM",
        "outputId": "2be1373b-3564-48ec-e92c-822c851743eb"
      },
      "source": [
        "summary(aov(data$celulas~data$droga))"
      ],
      "execution_count": null,
      "outputs": [
        {
          "output_type": "display_data",
          "data": {
            "text/plain": [
              "            Df Sum Sq Mean Sq F value  Pr(>F)   \n",
              "data$droga   2   7689    3844   6.306 0.00479 **\n",
              "Residuals   33  20118     610                   \n",
              "---\n",
              "Signif. codes:  0 ‘***’ 0.001 ‘**’ 0.01 ‘*’ 0.05 ‘.’ 0.1 ‘ ’ 1"
            ]
          },
          "metadata": {}
        }
      ]
    },
    {
      "cell_type": "code",
      "metadata": {
        "colab": {
          "base_uri": "https://localhost:8080/",
          "height": 195
        },
        "id": "_ZshJgMQWlDa",
        "outputId": "61d2e884-4647-4e48-c778-25b0e754d75e"
      },
      "source": [
        "pairwise.t.test(data$celulas,data$droga,p.adjust='bonf') # Resultado para rechazar con p < 0.005"
      ],
      "execution_count": null,
      "outputs": [
        {
          "output_type": "display_data",
          "data": {
            "text/plain": [
              "\n",
              "\tPairwise comparisons using t tests with pooled SD \n",
              "\n",
              "data:  data$celulas and data$droga \n",
              "\n",
              "  A      B     \n",
              "B 0.3324 -     \n",
              "C 0.1948 0.0036\n",
              "\n",
              "P value adjustment method: bonferroni "
            ]
          },
          "metadata": {}
        }
      ]
    },
    {
      "cell_type": "code",
      "metadata": {
        "colab": {
          "base_uri": "https://localhost:8080/",
          "height": 195
        },
        "id": "7TVb2eBFX71y",
        "outputId": "70e5d6c8-c1d6-4f28-c53d-a6f618476a69"
      },
      "source": [
        "modelo = aov(data$celulas~data$droga)\n",
        "TukeyHSD(modelo)"
      ],
      "execution_count": null,
      "outputs": [
        {
          "output_type": "display_data",
          "data": {
            "text/plain": [
              "  Tukey multiple comparisons of means\n",
              "    95% family-wise confidence level\n",
              "\n",
              "Fit: aov(formula = data$celulas ~ data$droga)\n",
              "\n",
              "$`data$droga`\n",
              "         diff        lwr        upr     p adj\n",
              "B-A  16.51667  -8.217365  41.250698 0.2440579\n",
              "C-A -19.24583 -43.979865   5.488198 0.1519628\n",
              "C-B -35.76250 -60.496531 -11.028469 0.0033212\n"
            ]
          },
          "metadata": {}
        }
      ]
    },
    {
      "cell_type": "markdown",
      "metadata": {
        "id": "zifdAPfZoXd-"
      },
      "source": [
        "## **Comparación:**\n",
        "\n",
        "Ambos resultados son similares, se concluye que solo la droga B y C se pueden comparar para una prueba estadística segun la cantidad de moléculas. Se recomienda más la prueba de Tukey para datasets más grandes pero la prueba de Bonferroni se puede personalizar y hace un ajuste por defecto al igual que la de Tukey."
      ]
    }
  ]
}